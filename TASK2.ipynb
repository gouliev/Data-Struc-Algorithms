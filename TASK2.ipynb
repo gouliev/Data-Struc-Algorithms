{
 "cells": [
  {
   "cell_type": "markdown",
   "id": "9ccee845",
   "metadata": {},
   "source": [
    "Zaur Gouliev 18718545\n",
    "Sean Moiselle 17461824\n",
    "\n",
    "# Shortest Path & Graphs\n",
    "\n",
    "*accompanying file Task2_Explination.pdf*"
   ]
  },
  {
   "cell_type": "markdown",
   "id": "b112712d",
   "metadata": {},
   "source": [
    "### This is simply a dictionary to store the all of the values of the graph"
   ]
  },
  {
   "cell_type": "code",
   "execution_count": 1,
   "id": "6715a9db",
   "metadata": {},
   "outputs": [],
   "source": [
    "mapp = {\n",
    "    'A': {'B': 5, 'E': 9, 'H': 8},\n",
    "    'B': {'C': 12, 'D': 15, 'H': 4},\n",
    "    'C': {'D': 3, 'F': 1, 'G': 11, 'H': 7},\n",
    "    'D': {'G': 9},\n",
    "    'E': {'F': 4, 'G': 20, 'H': 5},\n",
    "    'F': {'G': 13, 'H': 6},\n",
    "    'G': {},\n",
    "    'H': {}\n",
    "}"
   ]
  },
  {
   "cell_type": "markdown",
   "id": "d337a3d4",
   "metadata": {},
   "source": [
    "## networkx graph\n",
    "\n",
    "The graph is constructed using networkx libraries and the data above"
   ]
  },
  {
   "cell_type": "code",
   "execution_count": 2,
   "id": "56e60202",
   "metadata": {},
   "outputs": [
    {
     "name": "stderr",
     "output_type": "stream",
     "text": [
      "C:\\Users\\Zaurg\\AppData\\Local\\Temp/ipykernel_11380/1694382460.py:18: DeprecationWarning: info is deprecated and will be removed in version 3.0.\n",
      "\n",
      "  nx.info(G)\n"
     ]
    },
    {
     "data": {
      "text/plain": [
       "'Graph with 8 nodes and 16 edges'"
      ]
     },
     "execution_count": 2,
     "metadata": {},
     "output_type": "execute_result"
    }
   ],
   "source": [
    "import math\n",
    "import networkx as nx\n",
    "import matplotlib.pyplot as plt\n",
    "import sys\n",
    "G = nx.Graph()\n",
    "\n",
    "for key in mapp.keys():\n",
    "    G.add_node(key)\n",
    "    \n",
    "to_add = []\n",
    "for key, val in mapp.items():\n",
    "    for in_key, in_val in val.items():\n",
    "        to_add.append((key, in_key, in_val))\n",
    "\n",
    "        \n",
    "G.add_weighted_edges_from(to_add)\n",
    "\n",
    "nx.info(G)"
   ]
  },
  {
   "cell_type": "markdown",
   "id": "7175813d",
   "metadata": {},
   "source": [
    "# Graphing the network"
   ]
  },
  {
   "cell_type": "code",
   "execution_count": 3,
   "id": "366377a6",
   "metadata": {},
   "outputs": [
    {
     "data": {
      "image/png": "[encoded data removed]",
      "text/plain": [
       "<Figure size 432x288 with 1 Axes>"
      ]
     },
     "metadata": {},
     "output_type": "display_data"
    }
   ],
   "source": [
    "pos = nx.spring_layout(G)\n",
    "nx.draw_networkx_nodes(G, pos, node_size = 750, alpha = 0.9, node_color = '#0000ac')\n",
    "nx.draw_networkx_edges(G, pos, \n",
    "                       width = 2, alpha = 1, edge_color = 'k', style = 'dashed')\n",
    "nx.draw_networkx_labels(G, pos, font_size = 24, font_color = 'white')\n",
    "limits = plt.axis('off')"
   ]
  },
  {
   "cell_type": "markdown",
   "id": "37038ea3",
   "metadata": {},
   "source": [
    "## Djikstra\n",
    "This uses the djikstra algorithm of the networkx library to find the shortest paths to each node from A"
   ]
  },
  {
   "cell_type": "code",
   "execution_count": 4,
   "id": "8dcbe672",
   "metadata": {},
   "outputs": [
    {
     "name": "stdout",
     "output_type": "stream",
     "text": [
      "Path: ['A']\n",
      "Cost: 0\n",
      "\n",
      "Path: ['A', 'B']\n",
      "Cost: 5\n",
      "\n",
      "Path: ['A', 'E', 'F', 'C']\n",
      "Cost: 14\n",
      "\n",
      "Path: ['A', 'E', 'F', 'C', 'D']\n",
      "Cost: 17\n",
      "\n",
      "Path: ['A', 'E']\n",
      "Cost: 9\n",
      "\n",
      "Path: ['A', 'E', 'F']\n",
      "Cost: 13\n",
      "\n",
      "Path: ['A', 'E', 'F', 'C', 'G']\n",
      "Cost: 25\n",
      "\n",
      "Path: ['A', 'H']\n",
      "Cost: 8\n",
      "\n"
     ]
    }
   ],
   "source": [
    "def get_cost(path):\n",
    "    \n",
    "    curr_node = path[0]\n",
    "    curr_cost = 0\n",
    "    for node in path[1:]:\n",
    "        curr_cost += G[curr_node][node][\"weight\"]\n",
    "        curr_node = node\n",
    "    \n",
    "    return curr_cost\n",
    "\n",
    "to_not_rem = set()\n",
    "for key in mapp.keys():\n",
    "    path = nx.dijkstra_path(G, 'A', key)\n",
    "    print(\"Path: \" + str(path))\n",
    "    print(\"Cost: \" + str(get_cost(path)) + \"\\n\")\n",
    "    \n",
    "    for i in range (1,len(path)):\n",
    "        to_not_rem.add((path[i-1], path[i]))\n",
    "    "
   ]
  },
  {
   "cell_type": "markdown",
   "id": "cd47c2aa",
   "metadata": {},
   "source": [
    "## Remove edges that aren't being used"
   ]
  },
  {
   "cell_type": "code",
   "execution_count": 5,
   "id": "5ec8cc09",
   "metadata": {},
   "outputs": [
    {
     "name": "stderr",
     "output_type": "stream",
     "text": [
      "C:\\Users\\Zaurg\\AppData\\Local\\Temp/ipykernel_11380/2619865847.py:5: DeprecationWarning: info is deprecated and will be removed in version 3.0.\n",
      "\n",
      "  nx.info(G)\n"
     ]
    },
    {
     "data": {
      "text/plain": [
       "'Graph with 8 nodes and 7 edges'"
      ]
     },
     "execution_count": 5,
     "metadata": {},
     "output_type": "execute_result"
    }
   ],
   "source": [
    "for start_node, end_node in list(G.edges()):\n",
    "       if (start_node, end_node) not in to_not_rem and (end_node, start_node) not in to_not_rem:\n",
    "            G.remove_edge(start_node, end_node)\n",
    "            \n",
    "nx.info(G)"
   ]
  },
  {
   "cell_type": "markdown",
   "id": "3657a904",
   "metadata": {},
   "source": [
    "## Graphing the updated Graph"
   ]
  },
  {
   "cell_type": "code",
   "execution_count": 6,
   "id": "bb024000",
   "metadata": {},
   "outputs": [
    {
     "data": {
      "image/png": "[encoded data removed]",
      "text/plain": [
       "<Figure size 432x288 with 1 Axes>"
      ]
     },
     "metadata": {},
     "output_type": "display_data"
    }
   ],
   "source": [
    "pos = nx.spring_layout(G)\n",
    "nx.draw_networkx_nodes(G, pos, node_size = 750, alpha = 0.9, node_color = '#0000ac')\n",
    "nx.draw_networkx_edges(G, pos, \n",
    "                       width = 2, alpha = 1, edge_color = 'k', style = 'dashed')\n",
    "nx.draw_networkx_labels(G, pos, font_size = 24, font_color = 'white')\n",
    "limits = plt.axis('off')"
   ]
  },
  {
   "cell_type": "markdown",
   "id": "6b170fa8",
   "metadata": {},
   "source": [
    "# Analysis of Shortest Paths and Graphs\n",
    "\n",
    "The path search problem is the concept of finding the optimum path between the present location and the destination, given a set of conditions (Noto & Sato, 2000). Dijkstra's algorithm is one such process to finding the shortest, or more specifically the 'optimum' path. This algorithm searches for the 'minimum-cost' route of all paths in order, from the beginning the algorithm then expands concentrically (Noto & Sato, 2000). \n",
    "\n",
    "The general concept of dijkstras is that it proceeds using a 'two step' approach. Wherein it investigates the cost of reaching all available nodes, if they have not been visited prior and then choose the node which holds the lowest cost. As a result of being able to obtain information pertaining to the shortest path, Dijkstras algorithm has been implemented in robot path-planning in academic environments (Wang, Yu & Yuan, 2011).\n",
    "\n",
    "Dijkstra's Algorithm itself has a time complexity of O(V^2), hopwever with the implementation of a min-priority queue it can achieve a time complexity of O(V + E log V) (\"Shortest Path Algorithms Tutorials & Notes | Algorithms | HackerEarth\", ND)\n",
    "\n",
    "As a result of the structure or process which Dijkstras utilizes it does bare some disadvantages such as harboring a long search time given that the distance to the destination is quite excessive (Noto & Sato, 2000), this inefficiency can be displayed in our own graph by the visitation of D prior to visiting G..\n",
    "\n",
    "\n",
    "# References\n",
    "\n",
    "Noto, M., & Sato, H. (2000). A Method for the Shortest Path Search by Extended Dijkstra Algorithm. IEEE.\n",
    "\n",
    "Wang, H., Yu, Y., & Yuan, Q. (2011). Application of Dijkstra algorithm in robot path-planning. IEEE.\n",
    "\n",
    "Shortest Path Algorithms Tutorials & Notes | Algorithms | HackerEarth. (ND). Retrieved 25 April 2022, from https://www.hackerearth.com/practice/algorithms/graphs/shortest-path-algorithms/tutorial/#:~:text=Time%20Complexity%20of%20Dijkstra's%20Algorithm,E%20l%20o%20g%20V%20)%20."
   ]
  }
 ],
 "metadata": {
  "kernelspec": {
   "display_name": "Python 3 (ipykernel)",
   "language": "python",
   "name": "python3"
  },
  "language_info": {
   "codemirror_mode": {
    "name": "ipython",
    "version": 3
   },
   "file_extension": ".py",
   "mimetype": "text/x-python",
   "name": "python",
   "nbconvert_exporter": "python",
   "pygments_lexer": "ipython3",
   "version": "3.9.7"
  }
 },
 "nbformat": 4,
 "nbformat_minor": 5
}
